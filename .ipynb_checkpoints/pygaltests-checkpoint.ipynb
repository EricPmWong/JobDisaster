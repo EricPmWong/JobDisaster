{
 "cells": [
  {
   "cell_type": "code",
   "execution_count": 1,
   "metadata": {},
   "outputs": [],
   "source": [
    "import pygal\n",
    "import pandas as pd"
   ]
  },
  {
   "cell_type": "code",
   "execution_count": 6,
   "metadata": {},
   "outputs": [],
   "source": [
    "df = pd.read_csv('bostongraphdata.csv')"
   ]
  },
  {
   "cell_type": "code",
   "execution_count": 7,
   "metadata": {},
   "outputs": [
    {
     "name": "stdout",
     "output_type": "stream",
     "text": [
      "Unnamed: 0\n",
      "Consultancy Jobs\n",
      "Energy, Oil & Gas Jobs\n",
      "Engineering Jobs\n",
      "Graduate Jobs\n",
      "HR & Recruitment Jobs\n",
      "Healthcare & Nursing Jobs\n",
      "IT Jobs\n",
      "Legal Jobs\n",
      "Logistics & Warehouse Jobs\n",
      "Manufacturing Jobs\n",
      "Other/General Jobs\n",
      "PR, Advertising & Marketing Jobs\n",
      "Property Jobs\n",
      "Retail Jobs\n",
      "Sales Jobs\n",
      "Teaching Jobs\n",
      "Trade & Construction Jobs\n",
      "Unknown\n"
     ]
    }
   ],
   "source": [
    "for x in df.columns:\n",
    "    print(x)"
   ]
  },
  {
   "cell_type": "code",
   "execution_count": 8,
   "metadata": {},
   "outputs": [],
   "source": [
    "l = pygal.Line()\n",
    "l.title =\"Yo son this is pygal title\"\n",
    "l.x_labels = [x for x in df['Unnamed: 0']]\n",
    "for x in df.columns[1:]:\n",
    "    l.add(str(x), [x for x in df[x]])\n",
    "l.render_to_file(filename='pygaltest.html')"
   ]
  },
  {
   "cell_type": "code",
   "execution_count": null,
   "metadata": {},
   "outputs": [],
   "source": []
  },
  {
   "cell_type": "code",
   "execution_count": null,
   "metadata": {},
   "outputs": [],
   "source": []
  }
 ],
 "metadata": {
  "kernelspec": {
   "display_name": "Python 3",
   "language": "python",
   "name": "python3"
  },
  "language_info": {
   "codemirror_mode": {
    "name": "ipython",
    "version": 3
   },
   "file_extension": ".py",
   "mimetype": "text/x-python",
   "name": "python",
   "nbconvert_exporter": "python",
   "pygments_lexer": "ipython3",
   "version": "3.6.6"
  }
 },
 "nbformat": 4,
 "nbformat_minor": 2
}
