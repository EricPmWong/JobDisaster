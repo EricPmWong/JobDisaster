{
 "cells": [
  {
   "cell_type": "code",
   "execution_count": 716,
   "metadata": {},
   "outputs": [],
   "source": [
    "import pandas as pd\n",
    "import os"
   ]
  },
  {
   "cell_type": "code",
   "execution_count": 717,
   "metadata": {},
   "outputs": [],
   "source": [
    "df1 = pd.read_csv(r\"C:\\Users\\ericp\\OneDrive\\Documents\\GitHub\\project-4\\BLSdata\\HarveyData\\Aransas2015-2018.csv\")"
   ]
  },
  {
   "cell_type": "code",
   "execution_count": 718,
   "metadata": {},
   "outputs": [],
   "source": [
    "df2 = pd.read_csv(r\"C:\\Users\\ericp\\OneDrive\\Documents\\GitHub\\project-4\\BLSdata\\HarveyData\\Bay2016-2018.csv\")"
   ]
  },
  {
   "cell_type": "code",
   "execution_count": 719,
   "metadata": {},
   "outputs": [],
   "source": [
    "df3 = pd.read_csv(r\"C:\\Users\\ericp\\OneDrive\\Documents\\GitHub\\project-4\\BLSdata\\HarveyData\\Calhoun2015-2018.csv\" )"
   ]
  },
  {
   "cell_type": "code",
   "execution_count": 720,
   "metadata": {},
   "outputs": [],
   "source": [
    "df4 = pd.read_csv(r\"C:\\Users\\ericp\\OneDrive\\Documents\\GitHub\\project-4\\BLSdata\\HarveyData\\Galveston2015-2018.csv\"  )"
   ]
  },
  {
   "cell_type": "code",
   "execution_count": 721,
   "metadata": {},
   "outputs": [],
   "source": [
    "df5 = pd.read_csv(r\"C:\\Users\\ericp\\OneDrive\\Documents\\GitHub\\project-4\\BLSdata\\HarveyData\\Harris2015-2018.csv\"  )"
   ]
  },
  {
   "cell_type": "code",
   "execution_count": 722,
   "metadata": {},
   "outputs": [],
   "source": [
    "df6 = pd.read_csv(r\"C:\\Users\\ericp\\OneDrive\\Documents\\GitHub\\project-4\\BLSdata\\HarveyData\\Jefferson2015-2018.csv\" )"
   ]
  },
  {
   "cell_type": "code",
   "execution_count": 723,
   "metadata": {},
   "outputs": [],
   "source": [
    "df7 = pd.read_csv(r\"C:\\Users\\ericp\\OneDrive\\Documents\\GitHub\\project-4\\BLSdata\\HarveyData\\Matagorda2015-2018.csv\" )"
   ]
  },
  {
   "cell_type": "code",
   "execution_count": 724,
   "metadata": {},
   "outputs": [],
   "source": [
    "df8= pd.read_csv(r\"C:\\Users\\ericp\\OneDrive\\Documents\\GitHub\\project-4\\BLSdata\\HarveyData\\Orange2015-2018.csv\" )"
   ]
  },
  {
   "cell_type": "code",
   "execution_count": 725,
   "metadata": {},
   "outputs": [],
   "source": [
    "df9 = pd.read_csv(r\"C:\\Users\\ericp\\OneDrive\\Documents\\GitHub\\project-4\\BLSdata\\KatrinaData\\Terrebonne2003-2006.csv\"  )"
   ]
  },
  {
   "cell_type": "code",
   "execution_count": 726,
   "metadata": {},
   "outputs": [],
   "source": [
    "df10 = pd.read_csv(r\"C:\\Users\\ericp\\OneDrive\\Documents\\GitHub\\project-4\\BLSdata\\KatrinaData\\Washington2003-2006.csv\"  )"
   ]
  },
  {
   "cell_type": "code",
   "execution_count": 727,
   "metadata": {},
   "outputs": [
    {
     "name": "stdout",
     "output_type": "stream",
     "text": [
      "df1,\n",
      "df2,\n",
      "df3,\n",
      "df4,\n",
      "df5,\n",
      "df6,\n",
      "df7,\n",
      "df8,\n"
     ]
    }
   ],
   "source": [
    "for x in range(1,9):\n",
    "    print(\"df\"+str(x)+\",\")"
   ]
  },
  {
   "cell_type": "code",
   "execution_count": 728,
   "metadata": {},
   "outputs": [],
   "source": [
    "dflist = [\n",
    "df1,\n",
    "df2,\n",
    "df3,\n",
    "df4,\n",
    "df5,\n",
    "df6,\n",
    "df7,\n",
    "df8\n",
    "]"
   ]
  },
  {
   "cell_type": "code",
   "execution_count": 729,
   "metadata": {},
   "outputs": [],
   "source": [
    "subjectlist= [x for x in df1.columns[2::3]]"
   ]
  },
  {
   "cell_type": "code",
   "execution_count": 730,
   "metadata": {},
   "outputs": [],
   "source": [
    "for x in dflist:\n",
    "    x.fillna(int(0), inplace=True)"
   ]
  },
  {
   "cell_type": "code",
   "execution_count": 731,
   "metadata": {},
   "outputs": [],
   "source": [
    "natural_resources_mining_all_employees = []\n",
    "construction_all_employees= []\n",
    "manufacturing_all_employees= []\n",
    "trade_transportation_utilities_all_employees= []\n",
    "information_all_employees= []\n",
    "financial_activities_all_employees= []\n",
    "professional_business_services_all_employees= []\n",
    "education_health_services_all_employees= []\n",
    "leisure_hospitality_all_employees= []\n",
    "other_services_all_employees= []\n",
    "total_industries_aggr_value= []"
   ]
  },
  {
   "cell_type": "code",
   "execution_count": 732,
   "metadata": {},
   "outputs": [],
   "source": [
    "for df in dflist:\n",
    "    natural_resources_mining_all_employees.append(df[subjectlist[0]]) \n",
    "    construction_all_employees.append(df[subjectlist[1]])\n",
    "    manufacturing_all_employees.append(df[subjectlist[2]])\n",
    "    trade_transportation_utilities_all_employees.append(df[subjectlist[3]])\n",
    "    information_all_employees.append(df[subjectlist[4]])\n",
    "    financial_activities_all_employees.append(df[subjectlist[5]])\n",
    "    professional_business_services_all_employees.append(df[subjectlist[6]])\n",
    "    education_health_services_all_employees.append(df[subjectlist[7]])\n",
    "    leisure_hospitality_all_employees.append(df[subjectlist[8]])\n",
    "    other_services_all_employees.append(df[subjectlist[9]])\n",
    "    total_industries_aggr_value.append(df[subjectlist[10]])"
   ]
  },
  {
   "cell_type": "code",
   "execution_count": 733,
   "metadata": {},
   "outputs": [],
   "source": [
    "natural_resources_mining_all_employees = pd.DataFrame(natural_resources_mining_all_employees).T\n",
    "natural_resources_mining_all_employees['total'] = natural_resources_mining_all_employees.sum(axis=1)\n",
    "natural_resources_mining_all_employees = natural_resources_mining_all_employees['total']\n",
    "natural_resources_mining_all_employees.index = df1.date\n",
    "natural_resources_mining_all_employees\n",
    "natural_resources_mining_all_employees.to_csv('natural_resources_mining_all_employees.csv')"
   ]
  },
  {
   "cell_type": "code",
   "execution_count": 734,
   "metadata": {},
   "outputs": [],
   "source": [
    "construction_all_employees = pd.DataFrame(construction_all_employees).T\n",
    "construction_all_employees['total'] = construction_all_employees.sum(axis=1)\n",
    "construction_all_employees = construction_all_employees['total']\n",
    "construction_all_employees.index = df1.date\n",
    "construction_all_employees\n",
    "construction_all_employees.to_csv('construction_all_employees.csv')"
   ]
  },
  {
   "cell_type": "code",
   "execution_count": 735,
   "metadata": {},
   "outputs": [],
   "source": [
    "manufacturing_all_employees = pd.DataFrame(manufacturing_all_employees).T\n",
    "manufacturing_all_employees['total'] = manufacturing_all_employees.sum(axis=1)\n",
    "manufacturing_all_employees = manufacturing_all_employees['total']\n",
    "manufacturing_all_employees.index = df1.date\n",
    "manufacturing_all_employees\n",
    "manufacturing_all_employees.to_csv('manufacturing_all_employees.csv')"
   ]
  },
  {
   "cell_type": "code",
   "execution_count": 736,
   "metadata": {},
   "outputs": [],
   "source": [
    "trade_transportation_utilities_all_employees = pd.DataFrame(trade_transportation_utilities_all_employees).T\n",
    "trade_transportation_utilities_all_employees['total'] = trade_transportation_utilities_all_employees.sum(axis=1)\n",
    "trade_transportation_utilities_all_employees = trade_transportation_utilities_all_employees['total']\n",
    "trade_transportation_utilities_all_employees.index = df1.date\n",
    "trade_transportation_utilities_all_employees\n",
    "trade_transportation_utilities_all_employees.to_csv('trade_transportation_utilities_all_employees.csv')"
   ]
  },
  {
   "cell_type": "code",
   "execution_count": 737,
   "metadata": {},
   "outputs": [],
   "source": [
    "information_all_employees = pd.DataFrame(information_all_employees).T\n",
    "information_all_employees['total'] = information_all_employees.sum(axis=1)\n",
    "information_all_employees = information_all_employees['total']\n",
    "information_all_employees.index = df1.date\n",
    "information_all_employees\n",
    "information_all_employees.to_csv('information_all_employees.csv')"
   ]
  },
  {
   "cell_type": "code",
   "execution_count": 738,
   "metadata": {},
   "outputs": [],
   "source": [
    "financial_activities_all_employees = pd.DataFrame(financial_activities_all_employees).T\n",
    "financial_activities_all_employees['total'] = financial_activities_all_employees.sum(axis=1)\n",
    "financial_activities_all_employees = financial_activities_all_employees['total']\n",
    "financial_activities_all_employees.index = df1.date\n",
    "financial_activities_all_employees\n",
    "financial_activities_all_employees.to_csv('financial_activities_all_employees.csv')"
   ]
  },
  {
   "cell_type": "code",
   "execution_count": 739,
   "metadata": {},
   "outputs": [],
   "source": [
    "professional_business_services_all_employees = pd.DataFrame(professional_business_services_all_employees).T\n",
    "professional_business_services_all_employees['total'] = professional_business_services_all_employees.sum(axis=1)\n",
    "professional_business_services_all_employees = professional_business_services_all_employees['total']\n",
    "professional_business_services_all_employees.index = df1.date\n",
    "professional_business_services_all_employees\n",
    "professional_business_services_all_employees.to_csv('professional_business_services_all_employees.csv')"
   ]
  },
  {
   "cell_type": "code",
   "execution_count": 740,
   "metadata": {},
   "outputs": [],
   "source": [
    "education_health_services_all_employees = pd.DataFrame(education_health_services_all_employees).T\n",
    "education_health_services_all_employees['total'] = education_health_services_all_employees.sum(axis=1)\n",
    "education_health_services_all_employees = education_health_services_all_employees['total']\n",
    "education_health_services_all_employees.index = df1.date\n",
    "education_health_services_all_employees\n",
    "education_health_services_all_employees.to_csv('education_health_services_all_employees.csv')"
   ]
  },
  {
   "cell_type": "code",
   "execution_count": 741,
   "metadata": {},
   "outputs": [],
   "source": [
    "leisure_hospitality_all_employees = pd.DataFrame(leisure_hospitality_all_employees).T\n",
    "leisure_hospitality_all_employees['total'] = leisure_hospitality_all_employees.sum(axis=1)\n",
    "leisure_hospitality_all_employees = leisure_hospitality_all_employees['total']\n",
    "leisure_hospitality_all_employees.index = df1.date\n",
    "leisure_hospitality_all_employees\n",
    "leisure_hospitality_all_employees.to_csv('leisure_hospitality_all_employees.csv')"
   ]
  },
  {
   "cell_type": "code",
   "execution_count": 742,
   "metadata": {},
   "outputs": [],
   "source": [
    "other_services_all_employees = pd.DataFrame(other_services_all_employees).T\n",
    "other_services_all_employees['total'] = other_services_all_employees.sum(axis=1)\n",
    "other_services_all_employees = other_services_all_employees['total']\n",
    "other_services_all_employees.index = df1.date\n",
    "other_services_all_employees\n",
    "other_services_all_employees.to_csv('other_services_all_employees.csv')"
   ]
  }
 ],
 "metadata": {
  "kernelspec": {
   "display_name": "Python 3",
   "language": "python",
   "name": "python3"
  },
  "language_info": {
   "codemirror_mode": {
    "name": "ipython",
    "version": 3
   },
   "file_extension": ".py",
   "mimetype": "text/x-python",
   "name": "python",
   "nbconvert_exporter": "python",
   "pygments_lexer": "ipython3",
   "version": "3.6.6"
  }
 },
 "nbformat": 4,
 "nbformat_minor": 2
}
