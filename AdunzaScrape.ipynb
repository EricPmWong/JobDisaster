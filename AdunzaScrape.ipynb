{
 "cells": [
  {
   "cell_type": "markdown",
   "metadata": {},
   "source": [
    "## Imports"
   ]
  },
  {
   "cell_type": "code",
   "execution_count": 12,
   "metadata": {},
   "outputs": [],
   "source": [
    "import pandas as pd\n",
    "import numpy as np\n",
    "from psaw import PushshiftAPI\n",
    "import datetime \n",
    "from bs4 import BeautifulSoup \n",
    "import requests\n",
    "import re\n",
    "import time\n",
    "from sklearn.model_selection import train_test_split, GridSearchCV\n",
    "from sklearn.feature_extraction.text import CountVectorizer\n",
    "from sklearn.linear_model import LogisticRegression\n",
    "from sklearn.feature_extraction.text import TfidfVectorizer\n",
    "from sklearn.metrics import accuracy_score\n",
    "from sklearn.ensemble import RandomForestClassifier, ExtraTreesClassifier\n",
    "from sklearn.naive_bayes import MultinomialNB\n",
    "from sklearn.neighbors import KNeighborsClassifier\n",
    "from sklearn.preprocessing import StandardScaler\n",
    "from sklearn.metrics import confusion_matrix\n",
    "from sklearn import svm, datasets\n",
    "import seaborn as sns\n",
    "import matplotlib.pyplot as plt\n",
    "%matplotlib inline"
   ]
  },
  {
   "cell_type": "markdown",
   "metadata": {},
   "source": [
    "## Enter City (Emphasis on city) where natural disaster occured"
   ]
  },
  {
   "cell_type": "code",
   "execution_count": 13,
   "metadata": {},
   "outputs": [],
   "source": [
    "searchcity = 'trinity'"
   ]
  },
  {
   "cell_type": "markdown",
   "metadata": {},
   "source": [
    "## Creates a list of URLS to search through"
   ]
  },
  {
   "cell_type": "code",
   "execution_count": 14,
   "metadata": {},
   "outputs": [],
   "source": [
    "url_list=[]\n",
    "for page in range(1,6000):\n",
    "    url_list.append(\"https://api.adzuna.com:443/v1/api/jobs/us/search/\"+ str(page) +\"?app_id=d3330ea8&app_key=cbcbe79274381fae5af07fb6828067ce&results_per_page=100&where=\"+str(searchcity)+\"&sort_direction=up&sort_by=date&max_days_old=365\")"
   ]
  },
  {
   "cell_type": "markdown",
   "metadata": {},
   "source": [
    "## Starts pulling data from Adunza API for jobs"
   ]
  },
  {
   "cell_type": "code",
   "execution_count": 15,
   "metadata": {},
   "outputs": [
    {
     "name": "stdout",
     "output_type": "stream",
     "text": [
      "10 job ads pulled\n",
      "This is the end of data\n"
     ]
    }
   ],
   "source": [
    "spot = 1\n",
    "pulleddata = []\n",
    "for url in url_list:\n",
    "    try: \n",
    "        requests.get(url).json()['results'][0]\n",
    "        pulleddata.append(requests.get(url).json())\n",
    "        print(str(spot) + '0 job ads pulled')\n",
    "        spot += 1\n",
    "        time.sleep(1)\n",
    "    except: \n",
    "        print('This is the end of data')\n",
    "        break"
   ]
  },
  {
   "cell_type": "markdown",
   "metadata": {},
   "source": [
    "## Structures data "
   ]
  },
  {
   "cell_type": "code",
   "execution_count": 16,
   "metadata": {},
   "outputs": [],
   "source": [
    "structureddata = []\n",
    "for x in range(0, len(pulleddata)):\n",
    "    for y in pulleddata[x]['results']:\n",
    "        structureddata.append(y)"
   ]
  },
  {
   "cell_type": "markdown",
   "metadata": {},
   "source": [
    "## Creates Dataframe and creates a saved file (in case of \"oopsies\")"
   ]
  },
  {
   "cell_type": "code",
   "execution_count": 17,
   "metadata": {},
   "outputs": [],
   "source": [
    "df = pd.DataFrame()\n",
    "\n",
    "for x in range(0, len(structureddata)):\n",
    "    try:\n",
    "        df['company'] = [structureddata[x]['company']['display_name'] for x in range(0, len(structureddata))]\n",
    "        df['date'] = [structureddata[x]['created'][:7] for x in range(0, len(structureddata))]\n",
    "        df['title']= [structureddata[x]['title']for x in range(0, len(structureddata))]\n",
    "        df['All_Sectors']= [structureddata[x]['category']['label']for x in range(0, len(structureddata))]\n",
    "\n",
    "    except:\n",
    "        print('error')\n",
    "        pass\n",
    "\n",
    "try: \n",
    "    df.drop_duplicates(inplace=True)\n",
    "except:\n",
    "    pass"
   ]
  },
  {
   "cell_type": "code",
   "execution_count": 18,
   "metadata": {},
   "outputs": [
    {
     "data": {
      "text/html": [
       "<div>\n",
       "<style scoped>\n",
       "    .dataframe tbody tr th:only-of-type {\n",
       "        vertical-align: middle;\n",
       "    }\n",
       "\n",
       "    .dataframe tbody tr th {\n",
       "        vertical-align: top;\n",
       "    }\n",
       "\n",
       "    .dataframe thead th {\n",
       "        text-align: right;\n",
       "    }\n",
       "</style>\n",
       "<table border=\"1\" class=\"dataframe\">\n",
       "  <thead>\n",
       "    <tr style=\"text-align: right;\">\n",
       "      <th></th>\n",
       "      <th>company</th>\n",
       "      <th>date</th>\n",
       "      <th>title</th>\n",
       "      <th>All_Sectors</th>\n",
       "    </tr>\n",
       "  </thead>\n",
       "  <tbody>\n",
       "    <tr>\n",
       "      <th>0</th>\n",
       "      <td>J.S. Helwig and Sons LLC</td>\n",
       "      <td>2018-05</td>\n",
       "      <td>Company Truck Driver (CDL-A)</td>\n",
       "      <td>Unknown</td>\n",
       "    </tr>\n",
       "    <tr>\n",
       "      <th>1</th>\n",
       "      <td>C.R. England</td>\n",
       "      <td>2018-06</td>\n",
       "      <td>CDL Training School We Train, We Hire - Guaran...</td>\n",
       "      <td>Logistics &amp; Warehouse Jobs</td>\n",
       "    </tr>\n",
       "    <tr>\n",
       "      <th>2</th>\n",
       "      <td>C.R. England</td>\n",
       "      <td>2018-09</td>\n",
       "      <td>Become a Truck Driver We Train, We Hire - Guar...</td>\n",
       "      <td>Logistics &amp; Warehouse Jobs</td>\n",
       "    </tr>\n",
       "    <tr>\n",
       "      <th>3</th>\n",
       "      <td>C.R. England</td>\n",
       "      <td>2018-09</td>\n",
       "      <td>Entry Level CDL Truck Driver We Train, We Hire...</td>\n",
       "      <td>Unknown</td>\n",
       "    </tr>\n",
       "    <tr>\n",
       "      <th>4</th>\n",
       "      <td>C.R. England</td>\n",
       "      <td>2018-10</td>\n",
       "      <td>Entry-Level CDL-A Truck Drivers - Paid Trainin...</td>\n",
       "      <td>Unknown</td>\n",
       "    </tr>\n",
       "    <tr>\n",
       "      <th>5</th>\n",
       "      <td>C.R. England</td>\n",
       "      <td>2018-10</td>\n",
       "      <td>Recent Grad CDL-A Truck Driver - Paid Training</td>\n",
       "      <td>Unknown</td>\n",
       "    </tr>\n",
       "    <tr>\n",
       "      <th>6</th>\n",
       "      <td>C.R. England</td>\n",
       "      <td>2018-10</td>\n",
       "      <td>Truck Driver Class A CDL Recent Grads - Paid T...</td>\n",
       "      <td>Unknown</td>\n",
       "    </tr>\n",
       "    <tr>\n",
       "      <th>7</th>\n",
       "      <td>C.R. England</td>\n",
       "      <td>2018-11</td>\n",
       "      <td>No Experience - We Train New Truck Drivers</td>\n",
       "      <td>Unknown</td>\n",
       "    </tr>\n",
       "    <tr>\n",
       "      <th>8</th>\n",
       "      <td>Care.com</td>\n",
       "      <td>2018-11</td>\n",
       "      <td>Nanny Needed For 1 Child In Trinity.</td>\n",
       "      <td>Social work Jobs</td>\n",
       "    </tr>\n",
       "    <tr>\n",
       "      <th>9</th>\n",
       "      <td>Dollar General</td>\n",
       "      <td>2018-12</td>\n",
       "      <td>LEAD SALES ASSOCIATE-PT in TRINITY, TX</td>\n",
       "      <td>Unknown</td>\n",
       "    </tr>\n",
       "    <tr>\n",
       "      <th>10</th>\n",
       "      <td>Dollar General</td>\n",
       "      <td>2018-12</td>\n",
       "      <td>LEAD SALES ASSOCIATE-FT in TRINITY, TX</td>\n",
       "      <td>Unknown</td>\n",
       "    </tr>\n",
       "    <tr>\n",
       "      <th>11</th>\n",
       "      <td>Dollar General</td>\n",
       "      <td>2018-12</td>\n",
       "      <td>SALES ASSOCIATE in TRINITY, TX</td>\n",
       "      <td>Unknown</td>\n",
       "    </tr>\n",
       "    <tr>\n",
       "      <th>12</th>\n",
       "      <td>Cox Communications</td>\n",
       "      <td>2018-12</td>\n",
       "      <td>Lot Operations Supervisor</td>\n",
       "      <td>Admin Jobs</td>\n",
       "    </tr>\n",
       "    <tr>\n",
       "      <th>13</th>\n",
       "      <td>Cox Communications</td>\n",
       "      <td>2018-12</td>\n",
       "      <td>Auto Auction Detail Technician-Interior</td>\n",
       "      <td>Engineering Jobs</td>\n",
       "    </tr>\n",
       "    <tr>\n",
       "      <th>14</th>\n",
       "      <td>Cox Communications</td>\n",
       "      <td>2019-01</td>\n",
       "      <td>Auto Auction Detail Technician/Car Washer</td>\n",
       "      <td>Unknown</td>\n",
       "    </tr>\n",
       "    <tr>\n",
       "      <th>15</th>\n",
       "      <td>Heartland Express</td>\n",
       "      <td>2019-01</td>\n",
       "      <td>Class A CDL Truck Driver</td>\n",
       "      <td>Logistics &amp; Warehouse Jobs</td>\n",
       "    </tr>\n",
       "    <tr>\n",
       "      <th>16</th>\n",
       "      <td>LabCorp</td>\n",
       "      <td>2019-01</td>\n",
       "      <td>Phlebotomist - Trinity, TX</td>\n",
       "      <td>Unknown</td>\n",
       "    </tr>\n",
       "    <tr>\n",
       "      <th>17</th>\n",
       "      <td>LabCorp</td>\n",
       "      <td>2019-01</td>\n",
       "      <td>Phlebotomist - Trinity, TX</td>\n",
       "      <td>Healthcare &amp; Nursing Jobs</td>\n",
       "    </tr>\n",
       "    <tr>\n",
       "      <th>19</th>\n",
       "      <td>C.R. England</td>\n",
       "      <td>2019-01</td>\n",
       "      <td>Flatbed CDL-A Dedicated Truck Drivers - Better...</td>\n",
       "      <td>Travel Jobs</td>\n",
       "    </tr>\n",
       "  </tbody>\n",
       "</table>\n",
       "</div>"
      ],
      "text/plain": [
       "                     company     date  \\\n",
       "0   J.S. Helwig and Sons LLC  2018-05   \n",
       "1               C.R. England  2018-06   \n",
       "2               C.R. England  2018-09   \n",
       "3               C.R. England  2018-09   \n",
       "4               C.R. England  2018-10   \n",
       "5               C.R. England  2018-10   \n",
       "6               C.R. England  2018-10   \n",
       "7               C.R. England  2018-11   \n",
       "8                   Care.com  2018-11   \n",
       "9             Dollar General  2018-12   \n",
       "10            Dollar General  2018-12   \n",
       "11            Dollar General  2018-12   \n",
       "12        Cox Communications  2018-12   \n",
       "13        Cox Communications  2018-12   \n",
       "14        Cox Communications  2019-01   \n",
       "15         Heartland Express  2019-01   \n",
       "16                   LabCorp  2019-01   \n",
       "17                   LabCorp  2019-01   \n",
       "19              C.R. England  2019-01   \n",
       "\n",
       "                                                title  \\\n",
       "0                        Company Truck Driver (CDL-A)   \n",
       "1   CDL Training School We Train, We Hire - Guaran...   \n",
       "2   Become a Truck Driver We Train, We Hire - Guar...   \n",
       "3   Entry Level CDL Truck Driver We Train, We Hire...   \n",
       "4   Entry-Level CDL-A Truck Drivers - Paid Trainin...   \n",
       "5      Recent Grad CDL-A Truck Driver - Paid Training   \n",
       "6   Truck Driver Class A CDL Recent Grads - Paid T...   \n",
       "7          No Experience - We Train New Truck Drivers   \n",
       "8                Nanny Needed For 1 Child In Trinity.   \n",
       "9              LEAD SALES ASSOCIATE-PT in TRINITY, TX   \n",
       "10             LEAD SALES ASSOCIATE-FT in TRINITY, TX   \n",
       "11                     SALES ASSOCIATE in TRINITY, TX   \n",
       "12                          Lot Operations Supervisor   \n",
       "13            Auto Auction Detail Technician-Interior   \n",
       "14          Auto Auction Detail Technician/Car Washer   \n",
       "15                           Class A CDL Truck Driver   \n",
       "16                         Phlebotomist - Trinity, TX   \n",
       "17                         Phlebotomist - Trinity, TX   \n",
       "19  Flatbed CDL-A Dedicated Truck Drivers - Better...   \n",
       "\n",
       "                   All_Sectors  \n",
       "0                      Unknown  \n",
       "1   Logistics & Warehouse Jobs  \n",
       "2   Logistics & Warehouse Jobs  \n",
       "3                      Unknown  \n",
       "4                      Unknown  \n",
       "5                      Unknown  \n",
       "6                      Unknown  \n",
       "7                      Unknown  \n",
       "8             Social work Jobs  \n",
       "9                      Unknown  \n",
       "10                     Unknown  \n",
       "11                     Unknown  \n",
       "12                  Admin Jobs  \n",
       "13            Engineering Jobs  \n",
       "14                     Unknown  \n",
       "15  Logistics & Warehouse Jobs  \n",
       "16                     Unknown  \n",
       "17   Healthcare & Nursing Jobs  \n",
       "19                 Travel Jobs  "
      ]
     },
     "execution_count": 18,
     "metadata": {},
     "output_type": "execute_result"
    }
   ],
   "source": [
    "df"
   ]
  },
  {
   "cell_type": "markdown",
   "metadata": {},
   "source": [
    "## Changing date to datetime data type"
   ]
  },
  {
   "cell_type": "code",
   "execution_count": 19,
   "metadata": {},
   "outputs": [],
   "source": [
    "try:\n",
    "    df['date'] = pd.to_datetime(df['date'])\n",
    "except:\n",
    "    pass"
   ]
  },
  {
   "cell_type": "markdown",
   "metadata": {},
   "source": [
    "## Null (all should be 0)"
   ]
  },
  {
   "cell_type": "code",
   "execution_count": 20,
   "metadata": {},
   "outputs": [
    {
     "data": {
      "text/plain": [
       "company        0\n",
       "date           0\n",
       "title          0\n",
       "All_Sectors    0\n",
       "dtype: int64"
      ]
     },
     "execution_count": 20,
     "metadata": {},
     "output_type": "execute_result"
    }
   ],
   "source": [
    "df.isnull().sum()"
   ]
  },
  {
   "cell_type": "markdown",
   "metadata": {},
   "source": [
    "## Number of Data Points"
   ]
  },
  {
   "cell_type": "code",
   "execution_count": 21,
   "metadata": {},
   "outputs": [
    {
     "data": {
      "text/plain": [
       "19"
      ]
     },
     "execution_count": 21,
     "metadata": {},
     "output_type": "execute_result"
    }
   ],
   "source": [
    "len(df)"
   ]
  },
  {
   "cell_type": "markdown",
   "metadata": {},
   "source": [
    "## Frequency of posting by dates"
   ]
  },
  {
   "cell_type": "code",
   "execution_count": 22,
   "metadata": {},
   "outputs": [
    {
     "data": {
      "text/plain": [
       "2018-05-01    1\n",
       "2018-06-01    1\n",
       "2018-09-01    2\n",
       "2018-10-01    3\n",
       "2018-11-01    2\n",
       "2018-12-01    5\n",
       "2019-01-01    5\n",
       "Name: date, dtype: int64"
      ]
     },
     "execution_count": 22,
     "metadata": {},
     "output_type": "execute_result"
    }
   ],
   "source": [
    "df['date'].value_counts().sort_index()"
   ]
  },
  {
   "cell_type": "markdown",
   "metadata": {},
   "source": [
    "## Most common Sectors posted"
   ]
  },
  {
   "cell_type": "code",
   "execution_count": 23,
   "metadata": {},
   "outputs": [
    {
     "data": {
      "text/plain": [
       "Unknown                       11\n",
       "Logistics & Warehouse Jobs     3\n",
       "Engineering Jobs               1\n",
       "Travel Jobs                    1\n",
       "Social work Jobs               1\n",
       "Healthcare & Nursing Jobs      1\n",
       "Admin Jobs                     1\n",
       "Name: All_Sectors, dtype: int64"
      ]
     },
     "execution_count": 23,
     "metadata": {},
     "output_type": "execute_result"
    }
   ],
   "source": [
    "df['All_Sectors'].value_counts()"
   ]
  },
  {
   "cell_type": "markdown",
   "metadata": {},
   "source": [
    "## Industry Dummyvariable DataFrame"
   ]
  },
  {
   "cell_type": "code",
   "execution_count": 24,
   "metadata": {},
   "outputs": [
    {
     "name": "stdout",
     "output_type": "stream",
     "text": [
      "Healthcare & Nursing Jobs\n",
      "Logistics & Warehouse Jobs\n",
      "Social work Jobs\n",
      "Travel Jobs\n",
      "Unknown\n"
     ]
    }
   ],
   "source": [
    "industrygraphs = pd.get_dummies(df['All_Sectors'])\n",
    "industry = pd.concat([df, industrygraphs], axis=1)\n",
    "for x in industry.columns[6:]:\n",
    "    print(x)"
   ]
  },
  {
   "cell_type": "markdown",
   "metadata": {},
   "source": [
    "## Saves Dataframe (with dummies, to cityname.csv)"
   ]
  },
  {
   "cell_type": "code",
   "execution_count": 25,
   "metadata": {},
   "outputs": [],
   "source": [
    "industry.to_csv(str(searchcity)+'data.csv')"
   ]
  },
  {
   "cell_type": "markdown",
   "metadata": {},
   "source": [
    "## Creating of graphing data"
   ]
  },
  {
   "cell_type": "code",
   "execution_count": 26,
   "metadata": {},
   "outputs": [
    {
     "data": {
      "text/html": [
       "<div>\n",
       "<style scoped>\n",
       "    .dataframe tbody tr th:only-of-type {\n",
       "        vertical-align: middle;\n",
       "    }\n",
       "\n",
       "    .dataframe tbody tr th {\n",
       "        vertical-align: top;\n",
       "    }\n",
       "\n",
       "    .dataframe thead th {\n",
       "        text-align: right;\n",
       "    }\n",
       "</style>\n",
       "<table border=\"1\" class=\"dataframe\">\n",
       "  <thead>\n",
       "    <tr style=\"text-align: right;\">\n",
       "      <th></th>\n",
       "      <th>Healthcare &amp; Nursing Jobs</th>\n",
       "      <th>Logistics &amp; Warehouse Jobs</th>\n",
       "      <th>Social work Jobs</th>\n",
       "      <th>Travel Jobs</th>\n",
       "      <th>Unknown</th>\n",
       "    </tr>\n",
       "  </thead>\n",
       "  <tbody>\n",
       "    <tr>\n",
       "      <th>2018-01-31</th>\n",
       "      <td>NaN</td>\n",
       "      <td>NaN</td>\n",
       "      <td>NaN</td>\n",
       "      <td>NaN</td>\n",
       "      <td>NaN</td>\n",
       "    </tr>\n",
       "    <tr>\n",
       "      <th>2018-02-28</th>\n",
       "      <td>NaN</td>\n",
       "      <td>NaN</td>\n",
       "      <td>NaN</td>\n",
       "      <td>NaN</td>\n",
       "      <td>NaN</td>\n",
       "    </tr>\n",
       "    <tr>\n",
       "      <th>2018-03-31</th>\n",
       "      <td>NaN</td>\n",
       "      <td>NaN</td>\n",
       "      <td>NaN</td>\n",
       "      <td>NaN</td>\n",
       "      <td>NaN</td>\n",
       "    </tr>\n",
       "    <tr>\n",
       "      <th>2018-04-30</th>\n",
       "      <td>NaN</td>\n",
       "      <td>NaN</td>\n",
       "      <td>NaN</td>\n",
       "      <td>NaN</td>\n",
       "      <td>NaN</td>\n",
       "    </tr>\n",
       "    <tr>\n",
       "      <th>2018-05-31</th>\n",
       "      <td>NaN</td>\n",
       "      <td>NaN</td>\n",
       "      <td>NaN</td>\n",
       "      <td>NaN</td>\n",
       "      <td>NaN</td>\n",
       "    </tr>\n",
       "    <tr>\n",
       "      <th>2018-06-30</th>\n",
       "      <td>NaN</td>\n",
       "      <td>NaN</td>\n",
       "      <td>NaN</td>\n",
       "      <td>NaN</td>\n",
       "      <td>NaN</td>\n",
       "    </tr>\n",
       "    <tr>\n",
       "      <th>2018-07-31</th>\n",
       "      <td>NaN</td>\n",
       "      <td>NaN</td>\n",
       "      <td>NaN</td>\n",
       "      <td>NaN</td>\n",
       "      <td>NaN</td>\n",
       "    </tr>\n",
       "    <tr>\n",
       "      <th>2018-08-31</th>\n",
       "      <td>NaN</td>\n",
       "      <td>NaN</td>\n",
       "      <td>NaN</td>\n",
       "      <td>NaN</td>\n",
       "      <td>NaN</td>\n",
       "    </tr>\n",
       "    <tr>\n",
       "      <th>2018-09-30</th>\n",
       "      <td>NaN</td>\n",
       "      <td>NaN</td>\n",
       "      <td>NaN</td>\n",
       "      <td>NaN</td>\n",
       "      <td>NaN</td>\n",
       "    </tr>\n",
       "    <tr>\n",
       "      <th>2018-10-31</th>\n",
       "      <td>NaN</td>\n",
       "      <td>NaN</td>\n",
       "      <td>NaN</td>\n",
       "      <td>NaN</td>\n",
       "      <td>NaN</td>\n",
       "    </tr>\n",
       "    <tr>\n",
       "      <th>2018-11-30</th>\n",
       "      <td>NaN</td>\n",
       "      <td>NaN</td>\n",
       "      <td>NaN</td>\n",
       "      <td>NaN</td>\n",
       "      <td>NaN</td>\n",
       "    </tr>\n",
       "    <tr>\n",
       "      <th>2018-12-31</th>\n",
       "      <td>NaN</td>\n",
       "      <td>NaN</td>\n",
       "      <td>NaN</td>\n",
       "      <td>NaN</td>\n",
       "      <td>NaN</td>\n",
       "    </tr>\n",
       "  </tbody>\n",
       "</table>\n",
       "</div>"
      ],
      "text/plain": [
       "           Healthcare & Nursing Jobs Logistics & Warehouse Jobs  \\\n",
       "2018-01-31                       NaN                        NaN   \n",
       "2018-02-28                       NaN                        NaN   \n",
       "2018-03-31                       NaN                        NaN   \n",
       "2018-04-30                       NaN                        NaN   \n",
       "2018-05-31                       NaN                        NaN   \n",
       "2018-06-30                       NaN                        NaN   \n",
       "2018-07-31                       NaN                        NaN   \n",
       "2018-08-31                       NaN                        NaN   \n",
       "2018-09-30                       NaN                        NaN   \n",
       "2018-10-31                       NaN                        NaN   \n",
       "2018-11-30                       NaN                        NaN   \n",
       "2018-12-31                       NaN                        NaN   \n",
       "\n",
       "           Social work Jobs Travel Jobs Unknown  \n",
       "2018-01-31              NaN         NaN     NaN  \n",
       "2018-02-28              NaN         NaN     NaN  \n",
       "2018-03-31              NaN         NaN     NaN  \n",
       "2018-04-30              NaN         NaN     NaN  \n",
       "2018-05-31              NaN         NaN     NaN  \n",
       "2018-06-30              NaN         NaN     NaN  \n",
       "2018-07-31              NaN         NaN     NaN  \n",
       "2018-08-31              NaN         NaN     NaN  \n",
       "2018-09-30              NaN         NaN     NaN  \n",
       "2018-10-31              NaN         NaN     NaN  \n",
       "2018-11-30              NaN         NaN     NaN  \n",
       "2018-12-31              NaN         NaN     NaN  "
      ]
     },
     "execution_count": 26,
     "metadata": {},
     "output_type": "execute_result"
    }
   ],
   "source": [
    "daterange = pd.date_range(start=\"2018-01\", end='2019-01', freq='M')\n",
    "graphme = pd.DataFrame(columns=[x for x in industry.columns[6:]], index= daterange)\n",
    "graphme"
   ]
  },
  {
   "cell_type": "code",
   "execution_count": 27,
   "metadata": {},
   "outputs": [
    {
     "data": {
      "text/html": [
       "<div>\n",
       "<style scoped>\n",
       "    .dataframe tbody tr th:only-of-type {\n",
       "        vertical-align: middle;\n",
       "    }\n",
       "\n",
       "    .dataframe tbody tr th {\n",
       "        vertical-align: top;\n",
       "    }\n",
       "\n",
       "    .dataframe thead th {\n",
       "        text-align: right;\n",
       "    }\n",
       "</style>\n",
       "<table border=\"1\" class=\"dataframe\">\n",
       "  <thead>\n",
       "    <tr style=\"text-align: right;\">\n",
       "      <th></th>\n",
       "      <th>Healthcare &amp; Nursing Jobs</th>\n",
       "      <th>Logistics &amp; Warehouse Jobs</th>\n",
       "      <th>Social work Jobs</th>\n",
       "      <th>Travel Jobs</th>\n",
       "      <th>Unknown</th>\n",
       "    </tr>\n",
       "  </thead>\n",
       "  <tbody>\n",
       "    <tr>\n",
       "      <th>2018-02-28</th>\n",
       "      <td>NaN</td>\n",
       "      <td>NaN</td>\n",
       "      <td>NaN</td>\n",
       "      <td>NaN</td>\n",
       "      <td>NaN</td>\n",
       "    </tr>\n",
       "  </tbody>\n",
       "</table>\n",
       "</div>"
      ],
      "text/plain": [
       "           Healthcare & Nursing Jobs Logistics & Warehouse Jobs  \\\n",
       "2018-02-28                       NaN                        NaN   \n",
       "\n",
       "           Social work Jobs Travel Jobs Unknown  \n",
       "2018-02-28              NaN         NaN     NaN  "
      ]
     },
     "execution_count": 27,
     "metadata": {},
     "output_type": "execute_result"
    }
   ],
   "source": [
    "graphme['2018-02']"
   ]
  },
  {
   "cell_type": "code",
   "execution_count": 28,
   "metadata": {},
   "outputs": [],
   "source": [
    "graphme.fillna(0, inplace=True)"
   ]
  },
  {
   "cell_type": "code",
   "execution_count": 29,
   "metadata": {},
   "outputs": [
    {
     "name": "stderr",
     "output_type": "stream",
     "text": [
      "C:\\ProgramData\\Anaconda3\\lib\\site-packages\\ipykernel_launcher.py:5: SettingWithCopyWarning: \n",
      "A value is trying to be set on a copy of a slice from a DataFrame.\n",
      "Try using .loc[row_indexer,col_indexer] = value instead\n",
      "\n",
      "See the caveats in the documentation: http://pandas.pydata.org/pandas-docs/stable/indexing.html#indexing-view-versus-copy\n",
      "  \"\"\"\n"
     ]
    }
   ],
   "source": [
    "for x in range(6, (len(industry.columns))):\n",
    "    for date in industry[industry[str(industry.columns[x])] == 1]['date']:\n",
    "        for inde in graphme.index:\n",
    "            if str(date)[0:7] == str(inde)[:7]:\n",
    "                graphme[str(inde)[0:7]][str(industry.columns[x])]+=1\n",
    "graphme.to_csv(str(searchcity)+\"graphdata.csv\")"
   ]
  },
  {
   "cell_type": "code",
   "execution_count": 30,
   "metadata": {},
   "outputs": [
    {
     "data": {
      "text/html": [
       "<div>\n",
       "<style scoped>\n",
       "    .dataframe tbody tr th:only-of-type {\n",
       "        vertical-align: middle;\n",
       "    }\n",
       "\n",
       "    .dataframe tbody tr th {\n",
       "        vertical-align: top;\n",
       "    }\n",
       "\n",
       "    .dataframe thead th {\n",
       "        text-align: right;\n",
       "    }\n",
       "</style>\n",
       "<table border=\"1\" class=\"dataframe\">\n",
       "  <thead>\n",
       "    <tr style=\"text-align: right;\">\n",
       "      <th></th>\n",
       "      <th>Healthcare &amp; Nursing Jobs</th>\n",
       "      <th>Logistics &amp; Warehouse Jobs</th>\n",
       "      <th>Social work Jobs</th>\n",
       "      <th>Travel Jobs</th>\n",
       "      <th>Unknown</th>\n",
       "    </tr>\n",
       "  </thead>\n",
       "  <tbody>\n",
       "    <tr>\n",
       "      <th>2018-01-31</th>\n",
       "      <td>0</td>\n",
       "      <td>0</td>\n",
       "      <td>0</td>\n",
       "      <td>0</td>\n",
       "      <td>0</td>\n",
       "    </tr>\n",
       "    <tr>\n",
       "      <th>2018-02-28</th>\n",
       "      <td>0</td>\n",
       "      <td>0</td>\n",
       "      <td>0</td>\n",
       "      <td>0</td>\n",
       "      <td>0</td>\n",
       "    </tr>\n",
       "    <tr>\n",
       "      <th>2018-03-31</th>\n",
       "      <td>0</td>\n",
       "      <td>0</td>\n",
       "      <td>0</td>\n",
       "      <td>0</td>\n",
       "      <td>0</td>\n",
       "    </tr>\n",
       "    <tr>\n",
       "      <th>2018-04-30</th>\n",
       "      <td>0</td>\n",
       "      <td>0</td>\n",
       "      <td>0</td>\n",
       "      <td>0</td>\n",
       "      <td>0</td>\n",
       "    </tr>\n",
       "    <tr>\n",
       "      <th>2018-05-31</th>\n",
       "      <td>0</td>\n",
       "      <td>0</td>\n",
       "      <td>0</td>\n",
       "      <td>0</td>\n",
       "      <td>1</td>\n",
       "    </tr>\n",
       "    <tr>\n",
       "      <th>2018-06-30</th>\n",
       "      <td>0</td>\n",
       "      <td>1</td>\n",
       "      <td>0</td>\n",
       "      <td>0</td>\n",
       "      <td>0</td>\n",
       "    </tr>\n",
       "    <tr>\n",
       "      <th>2018-07-31</th>\n",
       "      <td>0</td>\n",
       "      <td>0</td>\n",
       "      <td>0</td>\n",
       "      <td>0</td>\n",
       "      <td>0</td>\n",
       "    </tr>\n",
       "    <tr>\n",
       "      <th>2018-08-31</th>\n",
       "      <td>0</td>\n",
       "      <td>0</td>\n",
       "      <td>0</td>\n",
       "      <td>0</td>\n",
       "      <td>0</td>\n",
       "    </tr>\n",
       "    <tr>\n",
       "      <th>2018-09-30</th>\n",
       "      <td>0</td>\n",
       "      <td>1</td>\n",
       "      <td>0</td>\n",
       "      <td>0</td>\n",
       "      <td>1</td>\n",
       "    </tr>\n",
       "    <tr>\n",
       "      <th>2018-10-31</th>\n",
       "      <td>0</td>\n",
       "      <td>0</td>\n",
       "      <td>0</td>\n",
       "      <td>0</td>\n",
       "      <td>3</td>\n",
       "    </tr>\n",
       "    <tr>\n",
       "      <th>2018-11-30</th>\n",
       "      <td>0</td>\n",
       "      <td>0</td>\n",
       "      <td>1</td>\n",
       "      <td>0</td>\n",
       "      <td>1</td>\n",
       "    </tr>\n",
       "    <tr>\n",
       "      <th>2018-12-31</th>\n",
       "      <td>0</td>\n",
       "      <td>0</td>\n",
       "      <td>0</td>\n",
       "      <td>0</td>\n",
       "      <td>3</td>\n",
       "    </tr>\n",
       "  </tbody>\n",
       "</table>\n",
       "</div>"
      ],
      "text/plain": [
       "            Healthcare & Nursing Jobs  Logistics & Warehouse Jobs  \\\n",
       "2018-01-31                          0                           0   \n",
       "2018-02-28                          0                           0   \n",
       "2018-03-31                          0                           0   \n",
       "2018-04-30                          0                           0   \n",
       "2018-05-31                          0                           0   \n",
       "2018-06-30                          0                           1   \n",
       "2018-07-31                          0                           0   \n",
       "2018-08-31                          0                           0   \n",
       "2018-09-30                          0                           1   \n",
       "2018-10-31                          0                           0   \n",
       "2018-11-30                          0                           0   \n",
       "2018-12-31                          0                           0   \n",
       "\n",
       "            Social work Jobs  Travel Jobs  Unknown  \n",
       "2018-01-31                 0            0        0  \n",
       "2018-02-28                 0            0        0  \n",
       "2018-03-31                 0            0        0  \n",
       "2018-04-30                 0            0        0  \n",
       "2018-05-31                 0            0        1  \n",
       "2018-06-30                 0            0        0  \n",
       "2018-07-31                 0            0        0  \n",
       "2018-08-31                 0            0        0  \n",
       "2018-09-30                 0            0        1  \n",
       "2018-10-31                 0            0        3  \n",
       "2018-11-30                 1            0        1  \n",
       "2018-12-31                 0            0        3  "
      ]
     },
     "execution_count": 30,
     "metadata": {},
     "output_type": "execute_result"
    }
   ],
   "source": [
    "graphme"
   ]
  },
  {
   "cell_type": "markdown",
   "metadata": {},
   "source": [
    "## Plotly graph"
   ]
  },
  {
   "cell_type": "code",
   "execution_count": 31,
   "metadata": {},
   "outputs": [
    {
     "data": {
      "application/vnd.plotly.v1+json": {
       "config": {
        "linkText": "Export to plot.ly",
        "plotlyServerURL": "https://plot.ly",
        "showLink": true
       },
       "data": [
        {
         "mode": "lines",
         "name": "Healthcare & Nursing Jobs",
         "type": "scatter",
         "uid": "c754b9d5-97fd-4dc7-8a89-aed88a0fa242",
         "x": [
          "2018-01-31",
          "2018-02-28",
          "2018-03-31",
          "2018-04-30",
          "2018-05-31",
          "2018-06-30",
          "2018-07-31",
          "2018-08-31",
          "2018-09-30",
          "2018-10-31",
          "2018-11-30",
          "2018-12-31"
         ],
         "y": [
          0,
          0,
          0,
          0,
          0,
          0,
          0,
          0,
          0,
          0,
          0,
          0
         ]
        },
        {
         "mode": "lines",
         "name": "Logistics & Warehouse Jobs",
         "type": "scatter",
         "uid": "8bd46761-250f-4658-a1e4-d8eb3835be37",
         "x": [
          "2018-01-31",
          "2018-02-28",
          "2018-03-31",
          "2018-04-30",
          "2018-05-31",
          "2018-06-30",
          "2018-07-31",
          "2018-08-31",
          "2018-09-30",
          "2018-10-31",
          "2018-11-30",
          "2018-12-31"
         ],
         "y": [
          0,
          0,
          0,
          0,
          0,
          1,
          0,
          0,
          1,
          0,
          0,
          0
         ]
        },
        {
         "mode": "lines",
         "name": "Social work Jobs",
         "type": "scatter",
         "uid": "413e769e-c1c5-4b6d-936a-f5f26ecdd408",
         "x": [
          "2018-01-31",
          "2018-02-28",
          "2018-03-31",
          "2018-04-30",
          "2018-05-31",
          "2018-06-30",
          "2018-07-31",
          "2018-08-31",
          "2018-09-30",
          "2018-10-31",
          "2018-11-30",
          "2018-12-31"
         ],
         "y": [
          0,
          0,
          0,
          0,
          0,
          0,
          0,
          0,
          0,
          0,
          1,
          0
         ]
        },
        {
         "mode": "lines",
         "name": "Travel Jobs",
         "type": "scatter",
         "uid": "56d543fe-7975-4337-be38-68b2c09b2aa3",
         "x": [
          "2018-01-31",
          "2018-02-28",
          "2018-03-31",
          "2018-04-30",
          "2018-05-31",
          "2018-06-30",
          "2018-07-31",
          "2018-08-31",
          "2018-09-30",
          "2018-10-31",
          "2018-11-30",
          "2018-12-31"
         ],
         "y": [
          0,
          0,
          0,
          0,
          0,
          0,
          0,
          0,
          0,
          0,
          0,
          0
         ]
        },
        {
         "mode": "lines",
         "name": "Unknown",
         "type": "scatter",
         "uid": "498eef98-94dd-470c-aa6e-045442e90298",
         "x": [
          "2018-01-31",
          "2018-02-28",
          "2018-03-31",
          "2018-04-30",
          "2018-05-31",
          "2018-06-30",
          "2018-07-31",
          "2018-08-31",
          "2018-09-30",
          "2018-10-31",
          "2018-11-30",
          "2018-12-31"
         ],
         "y": [
          0,
          0,
          0,
          0,
          1,
          0,
          0,
          0,
          1,
          3,
          1,
          3
         ]
        }
       ],
       "layout": {
        "autosize": true,
        "title": {
         "text": "trinity Job searches for 2018"
        },
        "xaxis": {
         "autorange": true,
         "range": [
          "2018-01-31",
          "2018-12-31"
         ],
         "type": "date"
        },
        "yaxis": {
         "autorange": true,
         "range": [
          -0.16666666666666666,
          3.1666666666666665
         ],
         "type": "linear"
        }
       }
      },
      "image/png": "[encoded data removed]"
     },
     "metadata": {},
     "output_type": "display_data"
    }
   ],
   "source": [
    "traces = {}\n",
    "import plotly.plotly as py\n",
    "import plotly.graph_objs as go\n",
    "from plotly.offline import download_plotlyjs, init_notebook_mode, plot, iplot\n",
    "\n",
    "for num in range(0, (len(graphme))):\n",
    "    try:\n",
    "        traces['trace'+str(num)] = dict(\n",
    "                    x= graphme.index,\n",
    "                    y= graphme[graphme.columns[num]],\n",
    "                    mode='lines',\n",
    "                    name= graphme.columns[num])\n",
    "        print(name)\n",
    "    except:\n",
    "        pass\n",
    "\n",
    "data = [traces['trace'+str(x)] for x in range(0, (len(traces)))]\n",
    "\n",
    "plot({'data':data,\n",
    "       'layout' : {'title': str(searchcity) +\" Job searches for 2018\"},\n",
    "     }, filename=str(searchcity)+\"PLOTLY.html\")\n",
    "\n",
    "\n",
    "iplot({'data':data,\n",
    "       'layout' : {'title': str(searchcity) +\" Job searches for 2018\"}})"
   ]
  },
  {
   "cell_type": "markdown",
   "metadata": {},
   "source": [
    "## Matplotlib"
   ]
  },
  {
   "cell_type": "code",
   "execution_count": 32,
   "metadata": {},
   "outputs": [
    {
     "data": {
      "image/png": "[encoded data removed]",
      "text/plain": [
       "<Figure size 1800x1080 with 1 Axes>"
      ]
     },
     "metadata": {
      "needs_background": "light"
     },
     "output_type": "display_data"
    }
   ],
   "source": [
    "plt.figure(figsize=(25,15))\n",
    "for num in range(6, len(industry.columns)):\n",
    "    sns.lineplot(data = graphme)\n",
    "plt.legend(labels=graphme.columns)\n",
    "plt.title(str(searchcity) + \" Job searches for 2018\")\n",
    "plt.grid()\n",
    "plt.tight_layout()\n",
    "plt.savefig(str(searchcity)+\"Matplotlib.jpg\")"
   ]
  },
  {
   "cell_type": "code",
   "execution_count": null,
   "metadata": {},
   "outputs": [],
   "source": []
  },
  {
   "cell_type": "code",
   "execution_count": null,
   "metadata": {},
   "outputs": [],
   "source": []
  },
  {
   "cell_type": "code",
   "execution_count": null,
   "metadata": {},
   "outputs": [],
   "source": []
  }
 ],
 "metadata": {
  "kernelspec": {
   "display_name": "Python 3",
   "language": "python",
   "name": "python3"
  },
  "language_info": {
   "codemirror_mode": {
    "name": "ipython",
    "version": 3
   },
   "file_extension": ".py",
   "mimetype": "text/x-python",
   "name": "python",
   "nbconvert_exporter": "python",
   "pygments_lexer": "ipython3",
   "version": "3.6.6"
  }
 },
 "nbformat": 4,
 "nbformat_minor": 2
}
