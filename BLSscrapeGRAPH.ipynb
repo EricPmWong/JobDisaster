{
 "cells": [
  {
   "cell_type": "code",
   "execution_count": 209,
   "metadata": {},
   "outputs": [],
   "source": [
    "import requests\n",
    "import json\n",
    "import pandas as pd\n",
    "import plotly.plotly as py\n",
    "import plotly.graph_objs as go\n",
    "from plotly.offline import download_plotlyjs, init_notebook_mode, plot, iplot\n",
    "import numpy as np"
   ]
  },
  {
   "cell_type": "code",
   "execution_count": 210,
   "metadata": {},
   "outputs": [],
   "source": [
    "def bls_pull(registration_key, area_code, start_year, end_year):\n",
    "    \n",
    "    \n",
    "\n",
    "\n",
    "\n",
    "    industries = {'11': 'natural_resources_mining',\n",
    "                  '12': 'construction',\n",
    "                  '13': 'manufacturing',\n",
    "                  '21': 'trade_transportation_utilities',\n",
    "                  '22': 'information',\n",
    "                  '23': 'financial_activities',\n",
    "                  '24': 'professional_business_services',\n",
    "                  '25': 'education_health_services',\n",
    "                  '26': 'leisure_hospitality',\n",
    "                  '27': 'other_services',\n",
    "                  '28': 'public_administration',\n",
    "                  '29': 'unclassified'}\n",
    "\n",
    "    data_names = {'1': 'all_employees',\n",
    "                  '4': 'avg_weekly_pay'}\n",
    "\n",
    "\n",
    "\n",
    "\n",
    "    json_dicts = {}\n",
    "\n",
    "    for i_code, i_name in industries.items():\n",
    "\n",
    "        for d_code, d_name in data_names.items():\n",
    "\n",
    "            headers = {'Content-type': 'application/json'}\n",
    "            data = json.dumps({\"seriesid\": ['ENU'+ area_code + d_code + '0510' + i_code],'registrationkey': registration_key, \n",
    "                               \"startyear\": start_year, \"endyear\": end_year})\n",
    "            p = requests.post('https://api.bls.gov/publicAPI/v2/timeseries/data/', data=data, headers=headers)\n",
    "            json_data = json.loads(p.text)\n",
    "\n",
    "            json_dicts[i_name + '_' + d_name] = json_data['Results']['series'][0]['data']\n",
    "\n",
    "    bad_keys = []\n",
    "    for i in json_dicts:\n",
    "        if len(json_dicts[i]) == 0:\n",
    "            bad_keys.append(i) \n",
    "\n",
    "    for i in bad_keys:\n",
    "        del json_dicts[i]\n",
    "\n",
    "\n",
    "\n",
    "\n",
    "    df_dicts = {}\n",
    "\n",
    "    for i in json_dicts:\n",
    "        df_dicts[i] = pd.DataFrame(json_dicts[i])\n",
    "\n",
    "    for i in df_dicts:\n",
    "\n",
    "        if 'avg_weekly_pay' in i:\n",
    "            df_dicts[i][i] = df_dicts[i]['value']\n",
    "            df_dicts[i]['date'] = df_dicts[i].apply(lambda x: x['year'] + x['period'][1:], axis=1)\n",
    "            df_dicts[i] = pd.concat([df_dicts[i]['date'], df_dicts[i][i]], axis=1)\n",
    "\n",
    "        elif 'all_employees' in i:\n",
    "            df_dicts[i][i] = df_dicts[i]['value']\n",
    "            df_dicts[i]['date'] = df_dicts[i].apply(lambda x: x['year'] + x['period'][1:], axis=1)\n",
    "            df_dicts[i] = pd.concat([df_dicts[i]['date'], df_dicts[i][i]], axis=1)\n",
    "\n",
    "        cols = [j for j in df_dicts[i] if j != 'date']\n",
    "        df_dicts[i][cols] = df_dicts[i][cols].apply(pd.to_numeric, errors='coerce')\n",
    "\n",
    "    for df_key in df_dicts:\n",
    "\n",
    "        wp_mask = df_key.split('all')[0] + 'avg_weekly_pay'\n",
    "\n",
    "        if 'all_employees' in df_key:\n",
    "\n",
    "            df_dicts[df_key][wp_mask] = 0\n",
    "\n",
    "            for index, period in df_dicts[df_key]['date'].iteritems():\n",
    "                if period[4:] in ['01', '02', '03']:\n",
    "                    df_dicts[df_key].loc[index, wp_mask] = 4 * df_dicts[wp_mask][df_dicts[wp_mask]['date']==(period[:4]+'01')][wp_mask].iloc[0]\n",
    "                if period[4:] in ['04', '05', '06']:\n",
    "                    df_dicts[df_key].loc[index, wp_mask] = 4 * df_dicts[wp_mask][df_dicts[wp_mask]['date']==(period[:4]+'02')][wp_mask].iloc[0]\n",
    "                if period[4:] in ['07', '08', '09']:\n",
    "                    df_dicts[df_key].loc[index, wp_mask] = 4 * df_dicts[wp_mask][df_dicts[wp_mask]['date']==(period[:4]+'03')][wp_mask].iloc[0]\n",
    "                if period[4:] in ['10', '11', '12']:\n",
    "                    df_dicts[df_key].loc[index, wp_mask] = 4 * df_dicts[wp_mask][df_dicts[wp_mask]['date']==(period[:4]+'04')][wp_mask].iloc[0]\n",
    "\n",
    "            df_dicts[df_key].rename(columns={wp_mask: df_key.split('all')[0] + 'avg_monthly_pay'}, inplace=True)\n",
    "            df_dicts[df_key][df_key.split('all')[0] + 'aggr_value'] = df_dicts[df_key][df_key] * df_dicts[df_key][df_key.split('all')[0] + 'avg_monthly_pay']\n",
    "\n",
    "    merged_df = pd.DataFrame(columns=['date'])\n",
    "\n",
    "    for df_key in df_dicts:\n",
    "        if 'all_employees' in df_key:\n",
    "            merged_df = pd.merge(merged_df, df_dicts[df_key], how = 'outer', on ='date')\n",
    "\n",
    "    temp_merge = merged_df.drop('date', axis=1)\n",
    "    temp_cols = [i for i in temp_merge.columns if 'aggr_val' in i]\n",
    "    merged_df['total_industries_aggr_value'] = temp_merge[temp_cols].apply(lambda x: sum(x), axis=1)\n",
    "    \n",
    "    #Reverses Dates:\n",
    "    merged_df = merged_df[::-1]\n",
    "    #Formates Dates year and month split\n",
    "    merged_df['date'] = [x[:4]+'-'+x[4:8] for x in merged_df['date']]\n",
    "    \n",
    "    return pd.DataFrame(merged_df)\n"
   ]
  },
  {
   "cell_type": "code",
   "execution_count": 211,
   "metadata": {},
   "outputs": [],
   "source": [
    "#EW API 9ff92c5c737a495297232e59bb594f55\n",
    "#AIDIAN API 2738330500f74641a2f99b3ecd9831e2\n",
    "#Linea API a5ee7376ece34349b16b469efbf2579d\n",
    "#Linea API 213d94fbcbe941269843d7d2b26440b0"
   ]
  },
  {
   "cell_type": "code",
   "execution_count": 212,
   "metadata": {},
   "outputs": [],
   "source": [
    "#Variables NEED INPUT\n",
    "city = \"Hudson\"\n",
    "start = \"2011\"\n",
    "end = \"2014\"\n",
    "code= \"34017\"\n",
    "disaster = \"2012-10\"\n",
    "# When did Disaster happen? "
   ]
  },
  {
   "cell_type": "code",
   "execution_count": 213,
   "metadata": {},
   "outputs": [
    {
     "ename": "KeyError",
     "evalue": "'series'",
     "output_type": "error",
     "traceback": [
      "\u001b[1;31m---------------------------------------------------------------------------\u001b[0m",
      "\u001b[1;31mKeyError\u001b[0m                                  Traceback (most recent call last)",
      "\u001b[1;32m<ipython-input-213-1199e7fb0adc>\u001b[0m in \u001b[0;36m<module>\u001b[1;34m\u001b[0m\n\u001b[0;32m      1\u001b[0m \u001b[1;31m#Pulls in data from BLS\u001b[0m\u001b[1;33m\u001b[0m\u001b[1;33m\u001b[0m\u001b[0m\n\u001b[1;32m----> 2\u001b[1;33m \u001b[0mdf\u001b[0m \u001b[1;33m=\u001b[0m \u001b[0mbls_pull\u001b[0m\u001b[1;33m(\u001b[0m\u001b[0mregistration_key\u001b[0m\u001b[1;33m=\u001b[0m\u001b[1;34m'a5ee7376ece34349b16b469efbf2579d'\u001b[0m\u001b[1;33m,\u001b[0m \u001b[0mstart_year\u001b[0m\u001b[1;33m=\u001b[0m\u001b[0mstart\u001b[0m\u001b[1;33m,\u001b[0m \u001b[0mend_year\u001b[0m\u001b[1;33m=\u001b[0m\u001b[0mend\u001b[0m\u001b[1;33m,\u001b[0m \u001b[0marea_code\u001b[0m\u001b[1;33m=\u001b[0m\u001b[0mcode\u001b[0m\u001b[1;33m)\u001b[0m\u001b[1;33m\u001b[0m\u001b[0m\n\u001b[0m",
      "\u001b[1;32m<ipython-input-210-7c5957a1ab7e>\u001b[0m in \u001b[0;36mbls_pull\u001b[1;34m(registration_key, area_code, start_year, end_year)\u001b[0m\n\u001b[0;32m     36\u001b[0m             \u001b[0mjson_data\u001b[0m \u001b[1;33m=\u001b[0m \u001b[0mjson\u001b[0m\u001b[1;33m.\u001b[0m\u001b[0mloads\u001b[0m\u001b[1;33m(\u001b[0m\u001b[0mp\u001b[0m\u001b[1;33m.\u001b[0m\u001b[0mtext\u001b[0m\u001b[1;33m)\u001b[0m\u001b[1;33m\u001b[0m\u001b[0m\n\u001b[0;32m     37\u001b[0m \u001b[1;33m\u001b[0m\u001b[0m\n\u001b[1;32m---> 38\u001b[1;33m             \u001b[0mjson_dicts\u001b[0m\u001b[1;33m[\u001b[0m\u001b[0mi_name\u001b[0m \u001b[1;33m+\u001b[0m \u001b[1;34m'_'\u001b[0m \u001b[1;33m+\u001b[0m \u001b[0md_name\u001b[0m\u001b[1;33m]\u001b[0m \u001b[1;33m=\u001b[0m \u001b[0mjson_data\u001b[0m\u001b[1;33m[\u001b[0m\u001b[1;34m'Results'\u001b[0m\u001b[1;33m]\u001b[0m\u001b[1;33m[\u001b[0m\u001b[1;34m'series'\u001b[0m\u001b[1;33m]\u001b[0m\u001b[1;33m[\u001b[0m\u001b[1;36m0\u001b[0m\u001b[1;33m]\u001b[0m\u001b[1;33m[\u001b[0m\u001b[1;34m'data'\u001b[0m\u001b[1;33m]\u001b[0m\u001b[1;33m\u001b[0m\u001b[0m\n\u001b[0m\u001b[0;32m     39\u001b[0m \u001b[1;33m\u001b[0m\u001b[0m\n\u001b[0;32m     40\u001b[0m     \u001b[0mbad_keys\u001b[0m \u001b[1;33m=\u001b[0m \u001b[1;33m[\u001b[0m\u001b[1;33m]\u001b[0m\u001b[1;33m\u001b[0m\u001b[0m\n",
      "\u001b[1;31mKeyError\u001b[0m: 'series'"
     ]
    }
   ],
   "source": [
    "#Pulls in data from BLS\n",
    "df = bls_pull(registration_key='a5ee7376ece34349b16b469efbf2579d', start_year=start, end_year=end, area_code=code) "
   ]
  },
  {
   "cell_type": "code",
   "execution_count": null,
   "metadata": {},
   "outputs": [],
   "source": [
    "#Saves to pdf\n",
    "df.to_csv(\"./BLSdata//\" +str(city)+str(start)+'-'+str(end)+\".csv\")"
   ]
  },
  {
   "cell_type": "code",
   "execution_count": null,
   "metadata": {},
   "outputs": [],
   "source": [
    "df.index = df['date']\n",
    "df.drop(columns=['date'],inplace=True)"
   ]
  },
  {
   "cell_type": "code",
   "execution_count": null,
   "metadata": {},
   "outputs": [],
   "source": [
    "#graphs stuff "
   ]
  },
  {
   "cell_type": "code",
   "execution_count": null,
   "metadata": {},
   "outputs": [],
   "source": [
    "traces = {}\n",
    "tracecount = 0\n",
    "for col in df.columns[:-1:3]:\n",
    "    try:\n",
    "        traces['trace'+ str(tracecount)] = dict(\n",
    "                    x= df.index,\n",
    "                    y= df[col],\n",
    "                    mode='lines',\n",
    "                    name= col)\n",
    "        \n",
    "        tracecount+=1\n",
    "    except:\n",
    "        print('error')"
   ]
  },
  {
   "cell_type": "code",
   "execution_count": null,
   "metadata": {},
   "outputs": [],
   "source": [
    "traces['trace' +str(tracecount)] = dict(\n",
    "x = [disaster]*2000,\n",
    "y = np.linspace(0, 5000, num=20),\n",
    "mode='markers',\n",
    "name = \"Disaster\"\n",
    ")"
   ]
  },
  {
   "cell_type": "code",
   "execution_count": null,
   "metadata": {},
   "outputs": [],
   "source": [
    "data = [traces['trace'+str(x)] for x in range(0, (len(traces)))]\n",
    "\n",
    "plot({'data':data,\n",
    "       'layout' : {'title': str(city) +\" employment figures for \" +str(start) +\"-\" + str(end)},\n",
    "     }, filename= \"./BLSgraph//\"+str(city)+\"BLSplotly.html\")\n",
    "\n",
    "iplot({'data':data,\n",
    "       'layout' : {'title': str(city) +\" employment figures for \" +str(start) +\"-\" + str(end)}})"
   ]
  },
  {
   "cell_type": "code",
   "execution_count": null,
   "metadata": {},
   "outputs": [],
   "source": []
  },
  {
   "cell_type": "code",
   "execution_count": null,
   "metadata": {},
   "outputs": [],
   "source": []
  },
  {
   "cell_type": "code",
   "execution_count": null,
   "metadata": {},
   "outputs": [],
   "source": []
  }
 ],
 "metadata": {
  "kernelspec": {
   "display_name": "Python 3",
   "language": "python",
   "name": "python3"
  },
  "language_info": {
   "codemirror_mode": {
    "name": "ipython",
    "version": 3
   },
   "file_extension": ".py",
   "mimetype": "text/x-python",
   "name": "python",
   "nbconvert_exporter": "python",
   "pygments_lexer": "ipython3",
   "version": "3.6.6"
  }
 },
 "nbformat": 4,
 "nbformat_minor": 2
}
